{
 "cells": [
  {
   "cell_type": "markdown",
   "id": "85288769",
   "metadata": {},
   "source": [
    "## Accounts"
   ]
  },
  {
   "cell_type": "markdown",
   "id": "cc363646",
   "metadata": {},
   "source": [
    "#### The following functionality is intended for account administrators and will not work with base user permissions"
   ]
  },
  {
   "cell_type": "markdown",
   "id": "dd8178c3",
   "metadata": {},
   "source": [
    "#### Initialize the Maxar Portal SDK Module"
   ]
  },
  {
   "cell_type": "code",
   "execution_count": null,
   "id": "b20e59e5",
   "metadata": {},
   "outputs": [],
   "source": [
    "from Maxar_Portal_SDK.interface import Interface\n",
    "\n",
    "try:\n",
    "  portal = Interface() # if .mps-config was created\n",
    "except:\n",
    "  portal = Interface('<user_name>','<user_password>') # if .mps-config was not created"
   ]
  },
  {
   "cell_type": "markdown",
   "id": "94a88bfd",
   "metadata": {},
   "source": [
    "#### Initialize the accounts portion of the account-services class for Maxar Portal SDK"
   ]
  },
  {
   "cell_type": "code",
   "execution_count": null,
   "id": "3d9c3935",
   "metadata": {},
   "outputs": [],
   "source": [
    "portal_account = portal.account_service.account_info"
   ]
  },
  {
   "cell_type": "markdown",
   "id": "0059ce84",
   "metadata": {},
   "source": [
    "#### List account information\n",
    "The following command will return dictionary with all of the information for the account that the user is tied to."
   ]
  },
  {
   "cell_type": "code",
   "execution_count": null,
   "id": "999217d5",
   "metadata": {},
   "outputs": [],
   "source": [
    "my_account = portal_account.GetAccounts()\n",
    "print(my_account)"
   ]
  },
  {
   "cell_type": "markdown",
   "id": "5faf0bcd",
   "metadata": {},
   "source": [
    "If the user knows their specific account id, account name, or account number, those values can be passed into the GetAccounts function for more detailed information."
   ]
  },
  {
   "cell_type": "code",
   "execution_count": null,
   "id": "1ba6d17b",
   "metadata": {},
   "outputs": [],
   "source": [
    "my_account = portal_account.GetAccounts(accountId=2)\n",
    "print(my_account)"
   ]
  }
 ],
 "metadata": {
  "kernelspec": {
   "display_name": "Python 3 (ipykernel)",
   "language": "python",
   "name": "python3"
  },
  "language_info": {
   "codemirror_mode": {
    "name": "ipython",
    "version": 3
   },
   "file_extension": ".py",
   "mimetype": "text/x-python",
   "name": "python",
   "nbconvert_exporter": "python",
   "pygments_lexer": "ipython3",
   "version": "3.7.13"
  }
 },
 "nbformat": 4,
 "nbformat_minor": 5
}
