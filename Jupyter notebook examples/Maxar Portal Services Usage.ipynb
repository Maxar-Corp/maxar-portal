{
 "cells": [
  {
   "cell_type": "markdown",
   "id": "d71b5cbf",
   "metadata": {},
   "source": [
    "## Usage"
   ]
  },
  {
   "cell_type": "markdown",
   "id": "9120a487",
   "metadata": {},
   "source": [
    "#### The following functionality is intended for account administrators and will not work with base user permissions"
   ]
  },
  {
   "cell_type": "markdown",
   "id": "67be30dd",
   "metadata": {},
   "source": [
    "#### Initialize the Maxar Portal SDK Module"
   ]
  },
  {
   "cell_type": "code",
   "execution_count": null,
   "id": "6c2ad630",
   "metadata": {},
   "outputs": [],
   "source": [
    "from Maxar_Portal_SDK.interface import Interface\n",
    "\n",
    "try:\n",
    "  portal = Interface() # if .mps-config was created\n",
    "except:\n",
    "  portal = Interface('<user_name>','<user_password>') # if .mps-config was not created"
   ]
  },
  {
   "cell_type": "markdown",
   "id": "f7e99ef6",
   "metadata": {},
   "source": [
    "#### Initialize the usage portion of the account-services class for Maxar Portal SDK"
   ]
  },
  {
   "cell_type": "code",
   "execution_count": null,
   "id": "b271e22a",
   "metadata": {},
   "outputs": [],
   "source": [
    "portal_usage = portal.account_service.usage"
   ]
  },
  {
   "cell_type": "markdown",
   "id": "812e051a",
   "metadata": {},
   "source": [
    "#### Get usage for an account\n",
    "The following commands will detail usage and amounts for an activation or activations."
   ]
  },
  {
   "cell_type": "code",
   "execution_count": null,
   "id": "12bcffce",
   "metadata": {},
   "outputs": [],
   "source": [
    "my_usage = portal_usage.get_usage()\n",
    "print(my_usage)"
   ]
  },
  {
   "cell_type": "markdown",
   "id": "e99b17c6",
   "metadata": {},
   "source": [
    "If there are multiple activations listed under an account, a user can enter in the desired activation id to get the usage for the desired activation. NOTE: The activation id is not the activation number. The activation id is the identifier within the database."
   ]
  },
  {
   "cell_type": "code",
   "execution_count": null,
   "id": "ea3e52c1",
   "metadata": {},
   "outputs": [],
   "source": [
    "my_usage = portal_usage.get_usage(0)\n",
    "print(my_usage)"
   ]
  },
  {
   "cell_type": "markdown",
   "id": "18485e5b",
   "metadata": {},
   "source": [
    "A user can also check on the amount of usage left on an activation. If there are multiple activations listed under an account, a user can enter in the desired activation id to get the usage for the desired activation. NOTE: The activation id is not the activation number. The activation id is the identifier within the database."
   ]
  },
  {
   "cell_type": "code",
   "execution_count": null,
   "id": "6b5b78ba",
   "metadata": {},
   "outputs": [],
   "source": [
    "my_usage_left = portal_usage.get_usage_allowed()\n",
    "print(my_usage_left)"
   ]
  },
  {
   "cell_type": "markdown",
   "id": "6d537ffe",
   "metadata": {},
   "source": [
    "A user may require a more detailed view of the usage that has been used for an activation"
   ]
  },
  {
   "cell_type": "code",
   "execution_count": null,
   "id": "c4017260",
   "metadata": {},
   "outputs": [],
   "source": [
    "my_detailed_usage = portal_usage.get_usage_overview()\n",
    "print(my_detailed_usage)"
   ]
  }
 ],
 "metadata": {
  "kernelspec": {
   "display_name": "Python 3 (ipykernel)",
   "language": "python",
   "name": "python3"
  },
  "language_info": {
   "codemirror_mode": {
    "name": "ipython",
    "version": 3
   },
   "file_extension": ".py",
   "mimetype": "text/x-python",
   "name": "python",
   "nbconvert_exporter": "python",
   "pygments_lexer": "ipython3",
   "version": "3.7.13"
  }
 },
 "nbformat": 4,
 "nbformat_minor": 5
}
