{
 "cells": [
  {
   "cell_type": "markdown",
   "id": "805c6497",
   "metadata": {},
   "source": [
    "## Tokens"
   ]
  },
  {
   "cell_type": "markdown",
   "id": "14eccf70",
   "metadata": {},
   "source": [
    "Tokens are used to integrate certain 3rd party content with Maxar Portal Service, such as ESRI products. When a token is created, a token id and a secret token id will be displayed. Take extreme care to make a note of the secret id, as it will not be viewable again. The secret id is what will be utilized for the 3rd party integrations."
   ]
  },
  {
   "cell_type": "markdown",
   "id": "5a6b5964",
   "metadata": {},
   "source": [
    "#### Initialize the Maxar Portal SDK Module"
   ]
  },
  {
   "cell_type": "code",
   "execution_count": null,
   "id": "51bca4a6",
   "metadata": {},
   "outputs": [],
   "source": [
    "from Maxar_Portal_SDK.interface import Interface\n",
    "\n",
    "try:\n",
    "  portal = Interface() # if .mps-config was created\n",
    "except:\n",
    "  portal = Interface('<user_name>','<user_password>') # if .mps-config was not created"
   ]
  },
  {
   "cell_type": "markdown",
   "id": "27c7a9a6",
   "metadata": {},
   "source": [
    "#### Initialize the token portion of the Maxar Portal SDK"
   ]
  },
  {
   "cell_type": "code",
   "execution_count": null,
   "id": "8f24192b",
   "metadata": {},
   "outputs": [],
   "source": [
    "portal_token = portal.token"
   ]
  },
  {
   "cell_type": "markdown",
   "id": "9dc45973",
   "metadata": {},
   "source": [
    "#### List all tokens associated with your user\n",
    "The following command will list out all token ids associated with your user. NOTE: The returned ids will be token ids, but not secret ids which are needed to make 3rd party integrations work."
   ]
  },
  {
   "cell_type": "code",
   "execution_count": null,
   "id": "bfbe2570",
   "metadata": {},
   "outputs": [],
   "source": [
    "my_tokens = portal_token.get_user_tokens()\n",
    "print(my_tokens)"
   ]
  },
  {
   "cell_type": "markdown",
   "id": "e27b7e47",
   "metadata": {},
   "source": [
    "#### Create a new token\n",
    "A token can be named and have a description included in it. NOTE: Take extreme care to make a note of the secret id, as it will not be viewable again."
   ]
  },
  {
   "cell_type": "code",
   "execution_count": null,
   "id": "cc1ce3f8",
   "metadata": {},
   "outputs": [],
   "source": [
    "new_token = portal_token.create_token_record(name=\"My new token\", description=\"This is my first token\")\n",
    "print(new_token)"
   ]
  },
  {
   "cell_type": "markdown",
   "id": "6b34531b",
   "metadata": {},
   "source": [
    "#### Delete token\n",
    "One or more tokens can be deleted when given one or more token ids. Pass a string of the id to delete one token or a list of strings of the ids to delete multiple tokens."
   ]
  },
  {
   "cell_type": "markdown",
   "id": "04565c6e",
   "metadata": {},
   "source": [
    "Grab the token id to pass it into the delete function"
   ]
  },
  {
   "cell_type": "code",
   "execution_count": null,
   "id": "f4a674eb",
   "metadata": {},
   "outputs": [],
   "source": [
    "token_id = portal_token.get_user_tokens()[0]['id']\n",
    "\n",
    "delete_token = portal_token.delete_tokens(token_id)\n",
    "print(delete_token)"
   ]
  }
 ],
 "metadata": {
  "kernelspec": {
   "display_name": "Python 3 (ipykernel)",
   "language": "python",
   "name": "python3"
  },
  "language_info": {
   "codemirror_mode": {
    "name": "ipython",
    "version": 3
   },
   "file_extension": ".py",
   "mimetype": "text/x-python",
   "name": "python",
   "nbconvert_exporter": "python",
   "pygments_lexer": "ipython3",
   "version": "3.7.13"
  }
 },
 "nbformat": 4,
 "nbformat_minor": 5
}
