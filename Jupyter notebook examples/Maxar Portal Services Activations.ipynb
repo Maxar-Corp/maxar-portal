{
 "cells": [
  {
   "cell_type": "markdown",
   "id": "88a37820",
   "metadata": {},
   "source": [
    "## Activations"
   ]
  },
  {
   "cell_type": "markdown",
   "id": "d940d5bf",
   "metadata": {},
   "source": [
    "#### The following functionality is intended for account administrators and will not work with base user permissions"
   ]
  },
  {
   "cell_type": "markdown",
   "id": "199eeb46",
   "metadata": {},
   "source": [
    "#### Initialize the Maxar Portal SDK Module"
   ]
  },
  {
   "cell_type": "code",
   "execution_count": null,
   "id": "8671b525",
   "metadata": {},
   "outputs": [],
   "source": [
    "from Maxar_Portal_SDK.interface import Interface\n",
    "\n",
    "try:\n",
    "  portal = Interface() # if .mps-config was created\n",
    "except:\n",
    "  portal = Interface('<user_name>','<user_password>') # if .mps-config was not created"
   ]
  },
  {
   "cell_type": "markdown",
   "id": "ae630830",
   "metadata": {},
   "source": [
    "#### Initialize the activations portion of the account-services class for Maxar Portal SDK"
   ]
  },
  {
   "cell_type": "code",
   "execution_count": null,
   "id": "a30ad945",
   "metadata": {},
   "outputs": [],
   "source": [
    "portal_activation = portal.account_service.activations"
   ]
  },
  {
   "cell_type": "markdown",
   "id": "1e9437cf",
   "metadata": {},
   "source": [
    "#### List all activations within an account\n",
    "The following command will return a dictionary with all of the information of the activation or activations that are tied to the user's account"
   ]
  },
  {
   "cell_type": "code",
   "execution_count": null,
   "id": "6ba050ca",
   "metadata": {},
   "outputs": [],
   "source": [
    "my_activation = portal_activation.GetActivations()\n",
    "print(my_activation)"
   ]
  },
  {
   "cell_type": "markdown",
   "id": "56ce96f2",
   "metadata": {},
   "source": [
    "If the user knows their specific activation id, that can be passed into the GetActivations function to return the information on that specific activation. NOTE: The activation id is not the activation number. The activation id is the identifier within the database."
   ]
  },
  {
   "cell_type": "code",
   "execution_count": null,
   "id": "5c24c4e0",
   "metadata": {},
   "outputs": [],
   "source": [
    "my_activation = portal_activation.GetActivations(2)\n",
    "print(my_activation)"
   ]
  },
  {
   "cell_type": "markdown",
   "id": "f682d10c",
   "metadata": {},
   "source": [
    "#### Searching activations\n",
    "In some cases there may be multiple activations tied to an account. In this example, a user can see how to search through activations with vague search terms in order to narrow down which activaiton is desired. Search terms can be activation numbers, account names, etc."
   ]
  },
  {
   "cell_type": "code",
   "execution_count": null,
   "id": "bdc8434a",
   "metadata": {},
   "outputs": [],
   "source": [
    "my_search = portal_activation.Search(search=\"Portal\")\n",
    "print(my_search)"
   ]
  }
 ],
 "metadata": {
  "kernelspec": {
   "display_name": "Python 3 (ipykernel)",
   "language": "python",
   "name": "python3"
  },
  "language_info": {
   "codemirror_mode": {
    "name": "ipython",
    "version": 3
   },
   "file_extension": ".py",
   "mimetype": "text/x-python",
   "name": "python",
   "nbconvert_exporter": "python",
   "pygments_lexer": "ipython3",
   "version": "3.7.13"
  }
 },
 "nbformat": 4,
 "nbformat_minor": 5
}
